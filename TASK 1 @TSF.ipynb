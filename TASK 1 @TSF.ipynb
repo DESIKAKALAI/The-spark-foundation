{
 "cells": [
  {
   "cell_type": "markdown",
   "metadata": {
    "id": "NYcU7mG-zYLB"
   },
   "source": [
    "# **THE SPARKS FOUNDATION**\n",
    "\n",
    "---\n",
    "\n",
    "\n",
    "\n",
    "## ***DATA SCIENCE & BUSINESS ANALYTICS*** \n",
    "\n",
    "---\n",
    "\n",
    "### **TASK 1 - Prediction using Supervised ML**\n",
    "\n",
    "### **AUTHOR:** DESIKA K\n"
   ]
  },
  {
   "cell_type": "markdown",
   "metadata": {
    "id": "pF0f4cNyzj8n"
   },
   "source": [
    "## **Linear Regression with Python Scikit Learn**\n",
    "In this section we will see how the Python Scikit-Learn library for machine learning can be used to implement regression functions. We will start with simple linear regression involving two variables.\n",
    "\n",
    "### **Simple Linear Regression**\n",
    "From the given data, the model is with a single regressor x (\"Hours\") that has a relationship with a response y (\"Scores\") that is a straight line. This is a simple linear regression task as it involves just two variables.\n",
    "\n",
    "### **Objective**\n",
    "In this regression task we will predict the percentage of marks that a student is expected to score based upon the number of hours they studied. \n",
    "\n"
   ]
  },
  {
   "cell_type": "markdown",
   "metadata": {
    "id": "gBKfU1b5zy85"
   },
   "source": [
    "## **Predicition**\n",
    "***To Predict the score if a student studies for 9.25 hrs/day.***\n"
   ]
  },
  {
   "cell_type": "code",
   "execution_count": 3,
   "metadata": {
    "executionInfo": {
     "elapsed": 1519,
     "status": "ok",
     "timestamp": 1639155109897,
     "user": {
      "displayName": "BHARGHAVI S",
      "photoUrl": "https://lh3.googleusercontent.com/a/default-user=s64",
      "userId": "07078037880299418231"
     },
     "user_tz": -330
    },
    "id": "wSz4o87Cz7gi"
   },
   "outputs": [],
   "source": [
    "# Importing required libraries \n",
    "import pandas as pd\n",
    "import numpy as np\n",
    "\n",
    "# Libraries for visualization\n",
    "import matplotlib.pyplot as plt\n",
    "import seaborn as sns\n",
    "\n",
    "# to plot the diagrams within the cells\n",
    "%matplotlib inline"
   ]
  },
  {
   "cell_type": "code",
   "execution_count": 2,
   "metadata": {
    "colab": {
     "base_uri": "https://localhost:8080/",
     "height": 224
    },
    "executionInfo": {
     "elapsed": 39,
     "status": "ok",
     "timestamp": 1639155072350,
     "user": {
      "displayName": "BHARGHAVI S",
      "photoUrl": "https://lh3.googleusercontent.com/a/default-user=s64",
      "userId": "07078037880299418231"
     },
     "user_tz": -330
    },
    "id": "CQNagYvTz_ik",
    "outputId": "863e08ee-6d51-4751-d76e-e25781ae49d6"
   },
   "outputs": [
    {
     "name": "stdout",
     "output_type": "stream",
     "text": [
      "Data imported successfully\n"
     ]
    },
    {
     "data": {
      "text/html": [
       "<div>\n",
       "<style scoped>\n",
       "    .dataframe tbody tr th:only-of-type {\n",
       "        vertical-align: middle;\n",
       "    }\n",
       "\n",
       "    .dataframe tbody tr th {\n",
       "        vertical-align: top;\n",
       "    }\n",
       "\n",
       "    .dataframe thead th {\n",
       "        text-align: right;\n",
       "    }\n",
       "</style>\n",
       "<table border=\"1\" class=\"dataframe\">\n",
       "  <thead>\n",
       "    <tr style=\"text-align: right;\">\n",
       "      <th></th>\n",
       "      <th>Hours</th>\n",
       "      <th>Scores</th>\n",
       "    </tr>\n",
       "  </thead>\n",
       "  <tbody>\n",
       "    <tr>\n",
       "      <th>0</th>\n",
       "      <td>2.5</td>\n",
       "      <td>21</td>\n",
       "    </tr>\n",
       "    <tr>\n",
       "      <th>1</th>\n",
       "      <td>5.1</td>\n",
       "      <td>47</td>\n",
       "    </tr>\n",
       "    <tr>\n",
       "      <th>2</th>\n",
       "      <td>3.2</td>\n",
       "      <td>27</td>\n",
       "    </tr>\n",
       "    <tr>\n",
       "      <th>3</th>\n",
       "      <td>8.5</td>\n",
       "      <td>75</td>\n",
       "    </tr>\n",
       "    <tr>\n",
       "      <th>4</th>\n",
       "      <td>3.5</td>\n",
       "      <td>30</td>\n",
       "    </tr>\n",
       "  </tbody>\n",
       "</table>\n",
       "</div>"
      ],
      "text/plain": [
       "   Hours  Scores\n",
       "0    2.5      21\n",
       "1    5.1      47\n",
       "2    3.2      27\n",
       "3    8.5      75\n",
       "4    3.5      30"
      ]
     },
     "execution_count": 2,
     "metadata": {},
     "output_type": "execute_result"
    }
   ],
   "source": [
    "# Reading csv data\n",
    "data = pd.read_csv(\"https://raw.githubusercontent.com/AdiPersonalWorks/Random/master/student_scores%20-%20student_scores.csv\")\n",
    "print(\"Data imported successfully\")\n",
    "data.head(5)\n"
   ]
  },
  {
   "cell_type": "code",
   "execution_count": 4,
   "metadata": {
    "colab": {
     "base_uri": "https://localhost:8080/",
     "height": 833
    },
    "executionInfo": {
     "elapsed": 470,
     "status": "ok",
     "timestamp": 1639155119777,
     "user": {
      "displayName": "BHARGHAVI S",
      "photoUrl": "https://lh3.googleusercontent.com/a/default-user=s64",
      "userId": "07078037880299418231"
     },
     "user_tz": -330
    },
    "id": "r_rdccN10DUz",
    "outputId": "caf0b4a5-fdd6-4f8a-a9cf-59acfd093b60"
   },
   "outputs": [
    {
     "data": {
      "text/html": [
       "<div>\n",
       "<style scoped>\n",
       "    .dataframe tbody tr th:only-of-type {\n",
       "        vertical-align: middle;\n",
       "    }\n",
       "\n",
       "    .dataframe tbody tr th {\n",
       "        vertical-align: top;\n",
       "    }\n",
       "\n",
       "    .dataframe thead th {\n",
       "        text-align: right;\n",
       "    }\n",
       "</style>\n",
       "<table border=\"1\" class=\"dataframe\">\n",
       "  <thead>\n",
       "    <tr style=\"text-align: right;\">\n",
       "      <th></th>\n",
       "      <th>Hours</th>\n",
       "      <th>Scores</th>\n",
       "    </tr>\n",
       "  </thead>\n",
       "  <tbody>\n",
       "    <tr>\n",
       "      <th>0</th>\n",
       "      <td>2.5</td>\n",
       "      <td>21</td>\n",
       "    </tr>\n",
       "    <tr>\n",
       "      <th>1</th>\n",
       "      <td>5.1</td>\n",
       "      <td>47</td>\n",
       "    </tr>\n",
       "    <tr>\n",
       "      <th>2</th>\n",
       "      <td>3.2</td>\n",
       "      <td>27</td>\n",
       "    </tr>\n",
       "    <tr>\n",
       "      <th>3</th>\n",
       "      <td>8.5</td>\n",
       "      <td>75</td>\n",
       "    </tr>\n",
       "    <tr>\n",
       "      <th>4</th>\n",
       "      <td>3.5</td>\n",
       "      <td>30</td>\n",
       "    </tr>\n",
       "    <tr>\n",
       "      <th>5</th>\n",
       "      <td>1.5</td>\n",
       "      <td>20</td>\n",
       "    </tr>\n",
       "    <tr>\n",
       "      <th>6</th>\n",
       "      <td>9.2</td>\n",
       "      <td>88</td>\n",
       "    </tr>\n",
       "    <tr>\n",
       "      <th>7</th>\n",
       "      <td>5.5</td>\n",
       "      <td>60</td>\n",
       "    </tr>\n",
       "    <tr>\n",
       "      <th>8</th>\n",
       "      <td>8.3</td>\n",
       "      <td>81</td>\n",
       "    </tr>\n",
       "    <tr>\n",
       "      <th>9</th>\n",
       "      <td>2.7</td>\n",
       "      <td>25</td>\n",
       "    </tr>\n",
       "    <tr>\n",
       "      <th>10</th>\n",
       "      <td>7.7</td>\n",
       "      <td>85</td>\n",
       "    </tr>\n",
       "    <tr>\n",
       "      <th>11</th>\n",
       "      <td>5.9</td>\n",
       "      <td>62</td>\n",
       "    </tr>\n",
       "    <tr>\n",
       "      <th>12</th>\n",
       "      <td>4.5</td>\n",
       "      <td>41</td>\n",
       "    </tr>\n",
       "    <tr>\n",
       "      <th>13</th>\n",
       "      <td>3.3</td>\n",
       "      <td>42</td>\n",
       "    </tr>\n",
       "    <tr>\n",
       "      <th>14</th>\n",
       "      <td>1.1</td>\n",
       "      <td>17</td>\n",
       "    </tr>\n",
       "    <tr>\n",
       "      <th>15</th>\n",
       "      <td>8.9</td>\n",
       "      <td>95</td>\n",
       "    </tr>\n",
       "    <tr>\n",
       "      <th>16</th>\n",
       "      <td>2.5</td>\n",
       "      <td>30</td>\n",
       "    </tr>\n",
       "    <tr>\n",
       "      <th>17</th>\n",
       "      <td>1.9</td>\n",
       "      <td>24</td>\n",
       "    </tr>\n",
       "    <tr>\n",
       "      <th>18</th>\n",
       "      <td>6.1</td>\n",
       "      <td>67</td>\n",
       "    </tr>\n",
       "    <tr>\n",
       "      <th>19</th>\n",
       "      <td>7.4</td>\n",
       "      <td>69</td>\n",
       "    </tr>\n",
       "    <tr>\n",
       "      <th>20</th>\n",
       "      <td>2.7</td>\n",
       "      <td>30</td>\n",
       "    </tr>\n",
       "    <tr>\n",
       "      <th>21</th>\n",
       "      <td>4.8</td>\n",
       "      <td>54</td>\n",
       "    </tr>\n",
       "    <tr>\n",
       "      <th>22</th>\n",
       "      <td>3.8</td>\n",
       "      <td>35</td>\n",
       "    </tr>\n",
       "    <tr>\n",
       "      <th>23</th>\n",
       "      <td>6.9</td>\n",
       "      <td>76</td>\n",
       "    </tr>\n",
       "    <tr>\n",
       "      <th>24</th>\n",
       "      <td>7.8</td>\n",
       "      <td>86</td>\n",
       "    </tr>\n",
       "  </tbody>\n",
       "</table>\n",
       "</div>"
      ],
      "text/plain": [
       "    Hours  Scores\n",
       "0     2.5      21\n",
       "1     5.1      47\n",
       "2     3.2      27\n",
       "3     8.5      75\n",
       "4     3.5      30\n",
       "5     1.5      20\n",
       "6     9.2      88\n",
       "7     5.5      60\n",
       "8     8.3      81\n",
       "9     2.7      25\n",
       "10    7.7      85\n",
       "11    5.9      62\n",
       "12    4.5      41\n",
       "13    3.3      42\n",
       "14    1.1      17\n",
       "15    8.9      95\n",
       "16    2.5      30\n",
       "17    1.9      24\n",
       "18    6.1      67\n",
       "19    7.4      69\n",
       "20    2.7      30\n",
       "21    4.8      54\n",
       "22    3.8      35\n",
       "23    6.9      76\n",
       "24    7.8      86"
      ]
     },
     "execution_count": 4,
     "metadata": {},
     "output_type": "execute_result"
    }
   ],
   "source": [
    "data"
   ]
  },
  {
   "cell_type": "code",
   "execution_count": 5,
   "metadata": {
    "colab": {
     "base_uri": "https://localhost:8080/"
    },
    "executionInfo": {
     "elapsed": 14,
     "status": "ok",
     "timestamp": 1639155128913,
     "user": {
      "displayName": "BHARGHAVI S",
      "photoUrl": "https://lh3.googleusercontent.com/a/default-user=s64",
      "userId": "07078037880299418231"
     },
     "user_tz": -330
    },
    "id": "vC7jGver0IG5",
    "outputId": "5044a67b-867e-47b6-c590-2e9907678b30"
   },
   "outputs": [
    {
     "name": "stdout",
     "output_type": "stream",
     "text": [
      "<class 'pandas.core.frame.DataFrame'>\n",
      "RangeIndex: 25 entries, 0 to 24\n",
      "Data columns (total 2 columns):\n",
      " #   Column  Non-Null Count  Dtype  \n",
      "---  ------  --------------  -----  \n",
      " 0   Hours   25 non-null     float64\n",
      " 1   Scores  25 non-null     int64  \n",
      "dtypes: float64(1), int64(1)\n",
      "memory usage: 528.0 bytes\n"
     ]
    }
   ],
   "source": [
    "data.info()"
   ]
  },
  {
   "cell_type": "code",
   "execution_count": 6,
   "metadata": {
    "colab": {
     "base_uri": "https://localhost:8080/",
     "height": 300
    },
    "executionInfo": {
     "elapsed": 635,
     "status": "ok",
     "timestamp": 1639155136594,
     "user": {
      "displayName": "BHARGHAVI S",
      "photoUrl": "https://lh3.googleusercontent.com/a/default-user=s64",
      "userId": "07078037880299418231"
     },
     "user_tz": -330
    },
    "id": "cWmC1-Lh0LGb",
    "outputId": "b16910f4-760f-4d08-fa1e-c51789b1f928"
   },
   "outputs": [
    {
     "data": {
      "text/html": [
       "<div>\n",
       "<style scoped>\n",
       "    .dataframe tbody tr th:only-of-type {\n",
       "        vertical-align: middle;\n",
       "    }\n",
       "\n",
       "    .dataframe tbody tr th {\n",
       "        vertical-align: top;\n",
       "    }\n",
       "\n",
       "    .dataframe thead th {\n",
       "        text-align: right;\n",
       "    }\n",
       "</style>\n",
       "<table border=\"1\" class=\"dataframe\">\n",
       "  <thead>\n",
       "    <tr style=\"text-align: right;\">\n",
       "      <th></th>\n",
       "      <th>Hours</th>\n",
       "      <th>Scores</th>\n",
       "    </tr>\n",
       "  </thead>\n",
       "  <tbody>\n",
       "    <tr>\n",
       "      <th>count</th>\n",
       "      <td>25.000000</td>\n",
       "      <td>25.000000</td>\n",
       "    </tr>\n",
       "    <tr>\n",
       "      <th>mean</th>\n",
       "      <td>5.012000</td>\n",
       "      <td>51.480000</td>\n",
       "    </tr>\n",
       "    <tr>\n",
       "      <th>std</th>\n",
       "      <td>2.525094</td>\n",
       "      <td>25.286887</td>\n",
       "    </tr>\n",
       "    <tr>\n",
       "      <th>min</th>\n",
       "      <td>1.100000</td>\n",
       "      <td>17.000000</td>\n",
       "    </tr>\n",
       "    <tr>\n",
       "      <th>25%</th>\n",
       "      <td>2.700000</td>\n",
       "      <td>30.000000</td>\n",
       "    </tr>\n",
       "    <tr>\n",
       "      <th>50%</th>\n",
       "      <td>4.800000</td>\n",
       "      <td>47.000000</td>\n",
       "    </tr>\n",
       "    <tr>\n",
       "      <th>75%</th>\n",
       "      <td>7.400000</td>\n",
       "      <td>75.000000</td>\n",
       "    </tr>\n",
       "    <tr>\n",
       "      <th>max</th>\n",
       "      <td>9.200000</td>\n",
       "      <td>95.000000</td>\n",
       "    </tr>\n",
       "  </tbody>\n",
       "</table>\n",
       "</div>"
      ],
      "text/plain": [
       "           Hours     Scores\n",
       "count  25.000000  25.000000\n",
       "mean    5.012000  51.480000\n",
       "std     2.525094  25.286887\n",
       "min     1.100000  17.000000\n",
       "25%     2.700000  30.000000\n",
       "50%     4.800000  47.000000\n",
       "75%     7.400000  75.000000\n",
       "max     9.200000  95.000000"
      ]
     },
     "execution_count": 6,
     "metadata": {},
     "output_type": "execute_result"
    }
   ],
   "source": [
    "data.describe()"
   ]
  },
  {
   "cell_type": "markdown",
   "metadata": {
    "id": "Ov4MSSTr0PHM"
   },
   "source": [
    "Plotting the data points on 2-D graph to visualize a relationship between the Hours and Scores from data."
   ]
  },
  {
   "cell_type": "code",
   "execution_count": 7,
   "metadata": {
    "colab": {
     "base_uri": "https://localhost:8080/",
     "height": 295
    },
    "executionInfo": {
     "elapsed": 515,
     "status": "ok",
     "timestamp": 1639155145539,
     "user": {
      "displayName": "BHARGHAVI S",
      "photoUrl": "https://lh3.googleusercontent.com/a/default-user=s64",
      "userId": "07078037880299418231"
     },
     "user_tz": -330
    },
    "id": "RpirXwEm0TC_",
    "outputId": "a7c4f1ce-e253-4711-e57f-d678b425c95e"
   },
   "outputs": [
    {
     "data": {
      "image/png": "[encoded data removed]",
      "text/plain": [
       "<Figure size 432x288 with 1 Axes>"
      ]
     },
     "metadata": {
      "needs_background": "light"
     },
     "output_type": "display_data"
    }
   ],
   "source": [
    "# Plotting the distribution of scores in a scatter plot\n",
    "data.plot(x=\"Hours\",y=\"Scores\", style=\"o\")\n",
    "plt.title(\"Hours Vs Scores\")\n",
    "plt.xlabel(\"Hours Studied\")\n",
    "plt.ylabel(\"Percentage Score\")\n",
    "plt.grid(True)\n",
    "plt.show()"
   ]
  },
  {
   "cell_type": "markdown",
   "metadata": {
    "id": "2xk8TDAm0Xgt"
   },
   "source": [
    "*From the above graph, we can clearly see that relationship between two variables increases together. Thus there exists a positive correlation between the number of hours studied and percentage of score secured by a student.*"
   ]
  },
  {
   "cell_type": "markdown",
   "metadata": {
    "id": "NvK6g7gp0ccA"
   },
   "source": [
    "### **Visualizing the correlation matrix as a heatmap**"
   ]
  },
  {
   "cell_type": "code",
   "execution_count": 8,
   "metadata": {
    "colab": {
     "base_uri": "https://localhost:8080/",
     "height": 324
    },
    "executionInfo": {
     "elapsed": 597,
     "status": "ok",
     "timestamp": 1639155154907,
     "user": {
      "displayName": "BHARGHAVI S",
      "photoUrl": "https://lh3.googleusercontent.com/a/default-user=s64",
      "userId": "07078037880299418231"
     },
     "user_tz": -330
    },
    "id": "e-ZYm7TN0hQW",
    "outputId": "bc8f5021-2502-409e-80a4-716879820ad8"
   },
   "outputs": [
    {
     "data": {
      "image/png": "[encoded data removed]",
      "text/plain": [
       "<Figure size 504x360 with 2 Axes>"
      ]
     },
     "metadata": {
      "needs_background": "light"
     },
     "output_type": "display_data"
    }
   ],
   "source": [
    "plt.figure(figsize=(7,5))\n",
    "sns.heatmap(data.corr(), annot = True, cmap = 'jet')\n",
    "plt.show()"
   ]
  },
  {
   "cell_type": "code",
   "execution_count": 9,
   "metadata": {
    "colab": {
     "base_uri": "https://localhost:8080/",
     "height": 112
    },
    "executionInfo": {
     "elapsed": 550,
     "status": "ok",
     "timestamp": 1639155164337,
     "user": {
      "displayName": "BHARGHAVI S",
      "photoUrl": "https://lh3.googleusercontent.com/a/default-user=s64",
      "userId": "07078037880299418231"
     },
     "user_tz": -330
    },
    "id": "gdPYIiPE0kjk",
    "outputId": "81b03c92-521e-41ce-cbbe-f6d2c3c428a2"
   },
   "outputs": [
    {
     "data": {
      "text/html": [
       "<div>\n",
       "<style scoped>\n",
       "    .dataframe tbody tr th:only-of-type {\n",
       "        vertical-align: middle;\n",
       "    }\n",
       "\n",
       "    .dataframe tbody tr th {\n",
       "        vertical-align: top;\n",
       "    }\n",
       "\n",
       "    .dataframe thead th {\n",
       "        text-align: right;\n",
       "    }\n",
       "</style>\n",
       "<table border=\"1\" class=\"dataframe\">\n",
       "  <thead>\n",
       "    <tr style=\"text-align: right;\">\n",
       "      <th></th>\n",
       "      <th>Hours</th>\n",
       "      <th>Scores</th>\n",
       "    </tr>\n",
       "  </thead>\n",
       "  <tbody>\n",
       "    <tr>\n",
       "      <th>Hours</th>\n",
       "      <td>1.000000</td>\n",
       "      <td>0.976191</td>\n",
       "    </tr>\n",
       "    <tr>\n",
       "      <th>Scores</th>\n",
       "      <td>0.976191</td>\n",
       "      <td>1.000000</td>\n",
       "    </tr>\n",
       "  </tbody>\n",
       "</table>\n",
       "</div>"
      ],
      "text/plain": [
       "           Hours    Scores\n",
       "Hours   1.000000  0.976191\n",
       "Scores  0.976191  1.000000"
      ]
     },
     "execution_count": 9,
     "metadata": {},
     "output_type": "execute_result"
    }
   ],
   "source": [
    "data.corr()"
   ]
  },
  {
   "cell_type": "markdown",
   "metadata": {
    "id": "sKIILFu60plk"
   },
   "source": [
    "## **Data Preparation**\n",
    "\n",
    "### **1. Separating the data into input and output variables**\n",
    "\n",
    "Before building any machine learning model, we always separate the input variables and output variables. Input variables are those quantities whose values are changed naturally in an experiment, whereas output variable is dependent on the input variables. So, output variable/s are known as dependent variables as its values are dependent on input variable/s and input variables are are independent variables as its values are not dependent on any other quantity.\n",
    "\n",
    "For the given data, we see that percentage of marks scored by a student is dependent on the number of hours studied. Thus, \"Hours\" is a dependent(input) variable and \"Scores\" is a independent(output) variable.\n",
    "\n",
    "***By convention input variables are represented with 'X' and output variables are represented with 'y'.***\n"
   ]
  },
  {
   "cell_type": "code",
   "execution_count": 10,
   "metadata": {
    "executionInfo": {
     "elapsed": 615,
     "status": "ok",
     "timestamp": 1639155173906,
     "user": {
      "displayName": "BHARGHAVI S",
      "photoUrl": "https://lh3.googleusercontent.com/a/default-user=s64",
      "userId": "07078037880299418231"
     },
     "user_tz": -330
    },
    "id": "ht51h6dQ0uV5"
   },
   "outputs": [],
   "source": [
    "X = data.iloc[:, :-1].values.reshape(-1,1)\n",
    "y = data.iloc[:, 1].values"
   ]
  },
  {
   "cell_type": "markdown",
   "metadata": {
    "id": "WYFkhqTM0zHM"
   },
   "source": [
    "### **2. K-Fold Cross Validation to split Train-Test data**\n",
    "\n",
    "We want to check the performance of the model that we built. For this purpose, we always the given data (both input and output data) into training set which will be used to train the model, and test set which will be used to check how accurately the model is predicting outcomes.\n",
    "\n",
    "> ***K-Folds cross-validator divides all the samples in k groups of samples, called folds (if k = n, this is equivalent to the Leave One Out strategy), of equal sizes (if possible). The prediction function is learned using  folds, and the fold left out is used for test.***\n",
    "\n",
    "**Each fold is constituted by two arrays:** the first one is related to the **training set**, and the second one to the **test set**."
   ]
  },
  {
   "cell_type": "code",
   "execution_count": 11,
   "metadata": {
    "colab": {
     "base_uri": "https://localhost:8080/"
    },
    "executionInfo": {
     "elapsed": 822,
     "status": "ok",
     "timestamp": 1639155180567,
     "user": {
      "displayName": "BHARGHAVI S",
      "photoUrl": "https://lh3.googleusercontent.com/a/default-user=s64",
      "userId": "07078037880299418231"
     },
     "user_tz": -330
    },
    "id": "yWYD71vy04Mc",
    "outputId": "6b026cc1-f4ac-4469-e1c9-2a8acec44784"
   },
   "outputs": [
    {
     "name": "stdout",
     "output_type": "stream",
     "text": [
      "Train: [ 1  2  3  4  5  6  7  9 10 12 13 14 15 17 18 19 20 21 22 24] Validation: [ 0  8 11 16 23]\n",
      "Train: [ 0  2  3  4  6  7  8 10 11 12 14 15 16 17 18 19 20 21 23 24] Validation: [ 1  5  9 13 22]\n",
      "Train: [ 0  1  5  6  7  8  9 10 11 13 14 16 17 18 19 20 21 22 23 24] Validation: [ 2  3  4 12 15]\n",
      "Train: [ 0  1  2  3  4  5  6  7  8  9 10 11 12 13 14 15 16 19 22 23] Validation: [17 18 20 21 24]\n",
      "Train: [ 0  1  2  3  4  5  8  9 11 12 13 15 16 17 18 20 21 22 23 24] Validation: [ 6  7 10 14 19]\n"
     ]
    }
   ],
   "source": [
    "from sklearn.metrics import accuracy_score\n",
    "from sklearn.model_selection import KFold\n",
    "\n",
    "# implementing Cross Validation\n",
    "k = 5\n",
    "kf = KFold(n_splits=k, shuffle=True, random_state=42)\n",
    "\n",
    "for train_index, test_index in kf.split(X):\n",
    "  print(\"Train:\", train_index, \"Validation:\", test_index)\n",
    "  X_train, X_test = X[train_index], X[test_index]\n",
    "  y_train, y_test = y[train_index], y[test_index]"
   ]
  },
  {
   "cell_type": "markdown",
   "metadata": {
    "id": "sPmW5_K00-FZ"
   },
   "source": [
    "## **Model Building**\n",
    "The prediction values of data are quantitative. For Simple linear model, we have,\n",
    "\n",
    "*   y = b_0 + b_1 * X\n",
    "\n",
    "Here there are two regression coefficients b_0 and b_1 which are actually called hyperparameters. In machine learning, a hyperparameter is a parameter whose value is used to control the learning process. And we must always try to find some optimal parameters while building a machine learning model.\n",
    "\n",
    "\n",
    "\n"
   ]
  },
  {
   "cell_type": "markdown",
   "metadata": {
    "id": "BoKWeG-a1DB5"
   },
   "source": [
    "### **Training the Algorithm**\n",
    "\n",
    "***To train our algorithm for the above splitted training sets, we have a class called 'LinearRegression' in the 'sklearn.linear_model' module.***"
   ]
  },
  {
   "cell_type": "code",
   "execution_count": 12,
   "metadata": {
    "colab": {
     "base_uri": "https://localhost:8080/"
    },
    "executionInfo": {
     "elapsed": 744,
     "status": "ok",
     "timestamp": 1639155194304,
     "user": {
      "displayName": "BHARGHAVI S",
      "photoUrl": "https://lh3.googleusercontent.com/a/default-user=s64",
      "userId": "07078037880299418231"
     },
     "user_tz": -330
    },
    "id": "FB7hRiZL1HVW",
    "outputId": "13624a8f-0922-442b-fa94-8d5b83e378fd"
   },
   "outputs": [
    {
     "name": "stdout",
     "output_type": "stream",
     "text": [
      "Training complete.\n"
     ]
    }
   ],
   "source": [
    "from sklearn.linear_model import LinearRegression\n",
    "\n",
    "# creating the model object\n",
    "lr = LinearRegression()\n",
    "\n",
    "# fit the model on train data\n",
    "lr.fit(X_train, y_train)\n",
    "\n",
    "print(\"Training complete.\")"
   ]
  },
  {
   "cell_type": "markdown",
   "metadata": {
    "id": "vtn2jOCY1MqE"
   },
   "source": [
    "## **Fitting the data**"
   ]
  },
  {
   "cell_type": "code",
   "execution_count": 13,
   "metadata": {
    "colab": {
     "base_uri": "https://localhost:8080/"
    },
    "executionInfo": {
     "elapsed": 924,
     "status": "ok",
     "timestamp": 1639155207809,
     "user": {
      "displayName": "BHARGHAVI S",
      "photoUrl": "https://lh3.googleusercontent.com/a/default-user=s64",
      "userId": "07078037880299418231"
     },
     "user_tz": -330
    },
    "id": "pckQtgLv1QrU",
    "outputId": "0e9fba42-368f-4fc9-e71f-305e78688e47"
   },
   "outputs": [
    {
     "name": "stdout",
     "output_type": "stream",
     "text": [
      "1.1587663324217772\n",
      "[10.00873595]\n"
     ]
    }
   ],
   "source": [
    "# Plotting the regression line\n",
    "line = lr.intercept_+lr.coef_*X\n",
    "\n",
    "# interpreting coefficients\n",
    "# printing y-intercept\n",
    "print(lr.intercept_)\n",
    "\n",
    "# printing the coefficient of x\n",
    "print(lr.coef_)"
   ]
  },
  {
   "cell_type": "code",
   "execution_count": 14,
   "metadata": {
    "colab": {
     "base_uri": "https://localhost:8080/",
     "height": 279
    },
    "executionInfo": {
     "elapsed": 951,
     "status": "ok",
     "timestamp": 1639155214687,
     "user": {
      "displayName": "BHARGHAVI S",
      "photoUrl": "https://lh3.googleusercontent.com/a/default-user=s64",
      "userId": "07078037880299418231"
     },
     "user_tz": -330
    },
    "id": "7H2P-ckH1Ufl",
    "outputId": "6f7b9cca-9a46-41b4-d34f-21b2c23316af"
   },
   "outputs": [
    {
     "data": {
      "image/png": "[encoded data removed]",
      "text/plain": [
       "<Figure size 432x288 with 1 Axes>"
      ]
     },
     "metadata": {
      "needs_background": "light"
     },
     "output_type": "display_data"
    }
   ],
   "source": [
    "# Fitting the data between train and test sets\n",
    "plt.scatter(X, y)\n",
    "plt.plot(X, line, 'r--')\n",
    "plt.xlabel(\"Train set\")\n",
    "plt.ylabel(\"Test set\")\n",
    "plt.grid(True)\n",
    "plt.show()"
   ]
  },
  {
   "cell_type": "markdown",
   "metadata": {
    "id": "-xeBTv6L1X1c"
   },
   "source": [
    "## **Prediction on Test set**\n",
    "\n",
    "Predicting a test data set with the help of training algorithm.\n",
    "\n"
   ]
  },
  {
   "cell_type": "code",
   "execution_count": 15,
   "metadata": {
    "colab": {
     "base_uri": "https://localhost:8080/"
    },
    "executionInfo": {
     "elapsed": 414,
     "status": "ok",
     "timestamp": 1639155223984,
     "user": {
      "displayName": "BHARGHAVI S",
      "photoUrl": "https://lh3.googleusercontent.com/a/default-user=s64",
      "userId": "07078037880299418231"
     },
     "user_tz": -330
    },
    "id": "lS_9ikfU1cF-",
    "outputId": "4aa52856-eadb-4dd4-8cc3-c13fe38fc1da"
   },
   "outputs": [
    {
     "name": "stdout",
     "output_type": "stream",
     "text": [
      "[[9.2]\n",
      " [5.5]\n",
      " [7.7]\n",
      " [1.1]\n",
      " [7.4]]\n"
     ]
    }
   ],
   "source": [
    "# Test data (Hours)\n",
    "print(X_test)\n",
    "\n",
    "# Predicting on the test data(Predicting Scores)\n",
    "y_pred = lr.predict(X_test)"
   ]
  },
  {
   "cell_type": "code",
   "execution_count": 16,
   "metadata": {
    "colab": {
     "base_uri": "https://localhost:8080/",
     "height": 206
    },
    "executionInfo": {
     "elapsed": 735,
     "status": "ok",
     "timestamp": 1639155230448,
     "user": {
      "displayName": "BHARGHAVI S",
      "photoUrl": "https://lh3.googleusercontent.com/a/default-user=s64",
      "userId": "07078037880299418231"
     },
     "user_tz": -330
    },
    "id": "ollt1EKO1fP1",
    "outputId": "015b7b29-30c1-47a2-bf58-de5b1d68b41c"
   },
   "outputs": [
    {
     "data": {
      "text/html": [
       "<div>\n",
       "<style scoped>\n",
       "    .dataframe tbody tr th:only-of-type {\n",
       "        vertical-align: middle;\n",
       "    }\n",
       "\n",
       "    .dataframe tbody tr th {\n",
       "        vertical-align: top;\n",
       "    }\n",
       "\n",
       "    .dataframe thead th {\n",
       "        text-align: right;\n",
       "    }\n",
       "</style>\n",
       "<table border=\"1\" class=\"dataframe\">\n",
       "  <thead>\n",
       "    <tr style=\"text-align: right;\">\n",
       "      <th></th>\n",
       "      <th>Actual Score</th>\n",
       "      <th>Predicted Score</th>\n",
       "    </tr>\n",
       "  </thead>\n",
       "  <tbody>\n",
       "    <tr>\n",
       "      <th>0</th>\n",
       "      <td>88</td>\n",
       "      <td>93.239137</td>\n",
       "    </tr>\n",
       "    <tr>\n",
       "      <th>1</th>\n",
       "      <td>60</td>\n",
       "      <td>56.206814</td>\n",
       "    </tr>\n",
       "    <tr>\n",
       "      <th>2</th>\n",
       "      <td>85</td>\n",
       "      <td>78.226033</td>\n",
       "    </tr>\n",
       "    <tr>\n",
       "      <th>3</th>\n",
       "      <td>17</td>\n",
       "      <td>12.168376</td>\n",
       "    </tr>\n",
       "    <tr>\n",
       "      <th>4</th>\n",
       "      <td>69</td>\n",
       "      <td>75.223412</td>\n",
       "    </tr>\n",
       "  </tbody>\n",
       "</table>\n",
       "</div>"
      ],
      "text/plain": [
       "   Actual Score  Predicted Score\n",
       "0            88        93.239137\n",
       "1            60        56.206814\n",
       "2            85        78.226033\n",
       "3            17        12.168376\n",
       "4            69        75.223412"
      ]
     },
     "execution_count": 16,
     "metadata": {},
     "output_type": "execute_result"
    }
   ],
   "source": [
    "# Comparing Actual Vs Predicted\n",
    "df = pd.DataFrame({'Actual Score': y_test, 'Predicted Score': y_pred})  \n",
    "df"
   ]
  },
  {
   "cell_type": "code",
   "execution_count": 17,
   "metadata": {
    "colab": {
     "base_uri": "https://localhost:8080/",
     "height": 262
    },
    "executionInfo": {
     "elapsed": 764,
     "status": "ok",
     "timestamp": 1639155246836,
     "user": {
      "displayName": "BHARGHAVI S",
      "photoUrl": "https://lh3.googleusercontent.com/a/default-user=s64",
      "userId": "07078037880299418231"
     },
     "user_tz": -330
    },
    "id": "h6vmOLFW1i2e",
    "outputId": "60af3b98-3d88-4e0c-ed2b-3b2b7f16548a"
   },
   "outputs": [
    {
     "data": {
      "image/png": "[encoded data removed]",
      "text/plain": [
       "<Figure size 432x288 with 1 Axes>"
      ]
     },
     "metadata": {
      "needs_background": "light"
     },
     "output_type": "display_data"
    }
   ],
   "source": [
    "# Visualizing Actual Vs Predicted\n",
    "vdf = pd.DataFrame({'Actual Score': y_test, 'Predicted Score': y_pred})\n",
    "vdf.plot(kind='bar')\n",
    "plt.xticks()\n",
    "plt.show()"
   ]
  },
  {
   "cell_type": "code",
   "execution_count": 18,
   "metadata": {
    "colab": {
     "base_uri": "https://localhost:8080/"
    },
    "executionInfo": {
     "elapsed": 748,
     "status": "ok",
     "timestamp": 1639155254900,
     "user": {
      "displayName": "BHARGHAVI S",
      "photoUrl": "https://lh3.googleusercontent.com/a/default-user=s64",
      "userId": "07078037880299418231"
     },
     "user_tz": -330
    },
    "id": "cq1-LijK1mhN",
    "outputId": "30e44f22-47aa-4eff-dae2-1a403b2843c4"
   },
   "outputs": [
    {
     "name": "stdout",
     "output_type": "stream",
     "text": [
      "95.41450664986235 %\n"
     ]
    }
   ],
   "source": [
    "# Model accuracy\n",
    "acc = lr.score(X_test, y_test)\n",
    "print(acc*100,\"%\")"
   ]
  },
  {
   "cell_type": "code",
   "execution_count": 19,
   "metadata": {
    "colab": {
     "base_uri": "https://localhost:8080/"
    },
    "executionInfo": {
     "elapsed": 832,
     "status": "ok",
     "timestamp": 1639155260852,
     "user": {
      "displayName": "BHARGHAVI S",
      "photoUrl": "https://lh3.googleusercontent.com/a/default-user=s64",
      "userId": "07078037880299418231"
     },
     "user_tz": -330
    },
    "id": "ceNB_jKj1myR",
    "outputId": "3440ba26-0eb0-4b2f-d9ef-7e0fe1918a67"
   },
   "outputs": [
    {
     "name": "stdout",
     "output_type": "stream",
     "text": [
      "No of Hours = 9.25\n",
      "Predicted Score = 93.73957383773927\n"
     ]
    }
   ],
   "source": [
    "# You can also test with your own data\n",
    "hours = 9.25\n",
    "own_pred = lr.predict([[hours]])\n",
    "print(\"No of Hours = {}\".format(hours))\n",
    "print(\"Predicted Score = {}\".format(own_pred[0]))"
   ]
  },
  {
   "cell_type": "markdown",
   "metadata": {
    "id": "7Kd6joq21uOu"
   },
   "source": [
    "## **Model Evaluation**\n",
    "There are three primary metrics used to evaluate linear models. These are: Mean absolute error (MAE), Mean squared error (MSE), or Root mean squared error (RMSE).\n",
    "\n",
    "**Mean Squared Error:** It is simply the average of the squared difference between the target value and the value predicted by the regression model.\n",
    "\n",
    "**Root Mean Squared Error:** It is the square root of the averaged squared difference between the target value and the value predicted by the model.\n",
    "\n",
    "**Mean Absolute Error:** It is the absolute difference between the target value and the value predicted by the model."
   ]
  },
  {
   "cell_type": "code",
   "execution_count": 20,
   "metadata": {
    "colab": {
     "base_uri": "https://localhost:8080/"
    },
    "executionInfo": {
     "elapsed": 397,
     "status": "ok",
     "timestamp": 1639155270520,
     "user": {
      "displayName": "BHARGHAVI S",
      "photoUrl": "https://lh3.googleusercontent.com/a/default-user=s64",
      "userId": "07078037880299418231"
     },
     "user_tz": -330
    },
    "id": "MGgo2SCy1ySm",
    "outputId": "0ba2e00c-eb22-4270-8d31-ec33b2329f94"
   },
   "outputs": [
    {
     "name": "stdout",
     "output_type": "stream",
     "text": [
      "5.372265268915219\n",
      "29.959779352459417\n",
      "5.473552717610329\n"
     ]
    }
   ],
   "source": [
    "# import metrics library\n",
    "from sklearn import metrics\n",
    "\n",
    "# print result of MAE\n",
    "print(metrics.mean_absolute_error(y_test, y_pred))\n",
    "\n",
    "#print result of MSE\n",
    "print(metrics.mean_squared_error(y_test, y_pred))\n",
    "\n",
    "#print result of RMSE\n",
    "print(np.sqrt(metrics.mean_squared_error(y_test, y_pred)))"
   ]
  }
 ],
 "metadata": {
  "colab": {
   "authorship_tag": "ABX9TyPtGalmzqHE2FPQya4gNIir",
   "collapsed_sections": [],
   "name": "TASK1@TSF.ipynb",
   "provenance": []
  },
  "kernelspec": {
   "display_name": "Python 3",
   "language": "python",
   "name": "python3"
  },
  "language_info": {
   "codemirror_mode": {
    "name": "ipython",
    "version": 3
   },
   "file_extension": ".py",
   "mimetype": "text/x-python",
   "name": "python",
   "nbconvert_exporter": "python",
   "pygments_lexer": "ipython3",
   "version": "3.8.8"
  }
 },
 "nbformat": 4,
 "nbformat_minor": 1
}
